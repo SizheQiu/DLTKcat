{
 "cells": [
  {
   "cell_type": "code",
   "execution_count": 1,
   "id": "2deef785",
   "metadata": {},
   "outputs": [],
   "source": [
    "import numpy as np\n",
    "import pandas as pd\n",
    "from scipy import stats\n",
    "from matplotlib import pyplot as plt\n",
    "from train_functions import *\n",
    "from feature_functions import *\n",
    "import os\n",
    "import seaborn as sns\n",
    "import warnings\n",
    "from sklearn.metrics import r2_score\n",
    "import random\n",
    "from feature_functions import load_pickle"
   ]
  },
  {
   "cell_type": "markdown",
   "id": "0ea369ee",
   "metadata": {},
   "source": [
    "# Generate data"
   ]
  },
  {
   "cell_type": "code",
   "execution_count": 3,
   "id": "0e9e3c2c",
   "metadata": {},
   "outputs": [],
   "source": [
    "data = pd.read_csv('../data/kcat_merge.csv')\n",
    "case_data = pd.read_csv('../data/case_studies/PFOCT_case.csv')"
   ]
  },
  {
   "cell_type": "code",
   "execution_count": 5,
   "id": "1d3621ef",
   "metadata": {},
   "outputs": [],
   "source": [
    "seq = get_seq_func('Q51742')"
   ]
  },
  {
   "cell_type": "code",
   "execution_count": 17,
   "id": "ce68e2bb",
   "metadata": {},
   "outputs": [],
   "source": [
    "wt_seq = get_seq_func('Q51742')\n",
    "seq_list = []\n",
    "for i in range(len(case_data.index)):\n",
    "    if list(case_data['Mutation'])[i] == 'None':\n",
    "        seq_list.append(wt_seq)\n",
    "    else:\n",
    "        mut_list= list(case_data['Mutation'])[i].split('/')\n",
    "        mut_seq = wt_seq\n",
    "        for mut in mut_list:\n",
    "            ind = int(mut[1:-1])\n",
    "            new = mut[-1].upper()\n",
    "            temp_list = list(mut_seq)\n",
    "            temp_list[ind] = new\n",
    "            mut_seq = ''.join(temp_list)\n",
    "        seq_list.append(mut_seq)\n",
    "case_data['seq'] = seq_list"
   ]
  },
  {
   "cell_type": "code",
   "execution_count": 20,
   "id": "af97b7f0",
   "metadata": {},
   "outputs": [],
   "source": [
    "Temp_K = [ float(T+273.15) for T in list(case_data['Temp']) ]\n",
    "Inv_Temp =  [ 1/float(T+273.15) for T in list(case_data['Temp']) ]\n",
    "T_K_norm = scale_minmax( Temp_K, min(data['Temp_K']) , max(data['Temp_K']))\n",
    "inv_T_norm = scale_minmax( Inv_Temp, min(data['Inv_Temp']) , max(data['Inv_Temp']))\n",
    "case_data['Temp_K_norm'] = T_K_norm\n",
    "case_data['Inv_Temp_norm'] = inv_T_norm"
   ]
  },
  {
   "cell_type": "code",
   "execution_count": 21,
   "id": "88536a7e",
   "metadata": {},
   "outputs": [
    {
     "data": {
      "text/html": [
       "<div>\n",
       "<style scoped>\n",
       "    .dataframe tbody tr th:only-of-type {\n",
       "        vertical-align: middle;\n",
       "    }\n",
       "\n",
       "    .dataframe tbody tr th {\n",
       "        vertical-align: top;\n",
       "    }\n",
       "\n",
       "    .dataframe thead th {\n",
       "        text-align: right;\n",
       "    }\n",
       "</style>\n",
       "<table border=\"1\" class=\"dataframe\">\n",
       "  <thead>\n",
       "    <tr style=\"text-align: right;\">\n",
       "      <th></th>\n",
       "      <th>smiles</th>\n",
       "      <th>ProtID</th>\n",
       "      <th>Temp</th>\n",
       "      <th>Mutation</th>\n",
       "      <th>kcat</th>\n",
       "      <th>seq</th>\n",
       "      <th>Temp_K_norm</th>\n",
       "      <th>Inv_Temp_norm</th>\n",
       "    </tr>\n",
       "  </thead>\n",
       "  <tbody>\n",
       "    <tr>\n",
       "      <th>0</th>\n",
       "      <td>C(CC(C(=O)O)N)CN</td>\n",
       "      <td>Q51742</td>\n",
       "      <td>55</td>\n",
       "      <td>None</td>\n",
       "      <td>500</td>\n",
       "      <td>MVVSLAGRDLLCLQDYTAEEIWTILETAKMFKIWQKIGKPHRLLEG...</td>\n",
       "      <td>0.55</td>\n",
       "      <td>0.374577</td>\n",
       "    </tr>\n",
       "    <tr>\n",
       "      <th>1</th>\n",
       "      <td>C(CC(C(=O)O)N)CN</td>\n",
       "      <td>Q51742</td>\n",
       "      <td>55</td>\n",
       "      <td>Y227C/E277G</td>\n",
       "      <td>3500</td>\n",
       "      <td>MVVSLAGRDLLCLQDYTAEEIWTILETAKMFKIWQKIGKPHRLLEG...</td>\n",
       "      <td>0.55</td>\n",
       "      <td>0.374577</td>\n",
       "    </tr>\n",
       "    <tr>\n",
       "      <th>2</th>\n",
       "      <td>C(CC(C(=O)O)N)CN</td>\n",
       "      <td>Q51742</td>\n",
       "      <td>55</td>\n",
       "      <td>A240D/E277G</td>\n",
       "      <td>4300</td>\n",
       "      <td>MVVSLAGRDLLCLQDYTAEEIWTILETAKMFKIWQKIGKPHRLLEG...</td>\n",
       "      <td>0.55</td>\n",
       "      <td>0.374577</td>\n",
       "    </tr>\n",
       "    <tr>\n",
       "      <th>3</th>\n",
       "      <td>C(CC(C(=O)O)N)CN</td>\n",
       "      <td>Q51742</td>\n",
       "      <td>55</td>\n",
       "      <td>Y227C</td>\n",
       "      <td>1100</td>\n",
       "      <td>MVVSLAGRDLLCLQDYTAEEIWTILETAKMFKIWQKIGKPHRLLEG...</td>\n",
       "      <td>0.55</td>\n",
       "      <td>0.374577</td>\n",
       "    </tr>\n",
       "    <tr>\n",
       "      <th>4</th>\n",
       "      <td>C(CC(C(=O)O)N)CN</td>\n",
       "      <td>Q51742</td>\n",
       "      <td>55</td>\n",
       "      <td>A240D</td>\n",
       "      <td>1100</td>\n",
       "      <td>MVVSLAGRDLLCLQDYTAEEIWTILETAKMFKIWQKIGKPHRLLEG...</td>\n",
       "      <td>0.55</td>\n",
       "      <td>0.374577</td>\n",
       "    </tr>\n",
       "    <tr>\n",
       "      <th>5</th>\n",
       "      <td>C(CC(C(=O)O)N)CN</td>\n",
       "      <td>Q51742</td>\n",
       "      <td>55</td>\n",
       "      <td>E277G</td>\n",
       "      <td>1600</td>\n",
       "      <td>MVVSLAGRDLLCLQDYTAEEIWTILETAKMFKIWQKIGKPHRLLEG...</td>\n",
       "      <td>0.55</td>\n",
       "      <td>0.374577</td>\n",
       "    </tr>\n",
       "    <tr>\n",
       "      <th>6</th>\n",
       "      <td>C(CC(C(=O)O)N)CN</td>\n",
       "      <td>Q51742</td>\n",
       "      <td>30</td>\n",
       "      <td>None</td>\n",
       "      <td>370</td>\n",
       "      <td>MVVSLAGRDLLCLQDYTAEEIWTILETAKMFKIWQKIGKPHRLLEG...</td>\n",
       "      <td>0.30</td>\n",
       "      <td>0.630727</td>\n",
       "    </tr>\n",
       "    <tr>\n",
       "      <th>7</th>\n",
       "      <td>C(CC(C(=O)O)N)CN</td>\n",
       "      <td>Q51742</td>\n",
       "      <td>30</td>\n",
       "      <td>Y227C/E277G</td>\n",
       "      <td>2200</td>\n",
       "      <td>MVVSLAGRDLLCLQDYTAEEIWTILETAKMFKIWQKIGKPHRLLEG...</td>\n",
       "      <td>0.30</td>\n",
       "      <td>0.630727</td>\n",
       "    </tr>\n",
       "    <tr>\n",
       "      <th>8</th>\n",
       "      <td>C(CC(C(=O)O)N)CN</td>\n",
       "      <td>Q51742</td>\n",
       "      <td>30</td>\n",
       "      <td>A240D/E277G</td>\n",
       "      <td>2900</td>\n",
       "      <td>MVVSLAGRDLLCLQDYTAEEIWTILETAKMFKIWQKIGKPHRLLEG...</td>\n",
       "      <td>0.30</td>\n",
       "      <td>0.630727</td>\n",
       "    </tr>\n",
       "    <tr>\n",
       "      <th>9</th>\n",
       "      <td>C(CC(C(=O)O)N)CN</td>\n",
       "      <td>Q51742</td>\n",
       "      <td>30</td>\n",
       "      <td>Y227C</td>\n",
       "      <td>560</td>\n",
       "      <td>MVVSLAGRDLLCLQDYTAEEIWTILETAKMFKIWQKIGKPHRLLEG...</td>\n",
       "      <td>0.30</td>\n",
       "      <td>0.630727</td>\n",
       "    </tr>\n",
       "    <tr>\n",
       "      <th>10</th>\n",
       "      <td>C(CC(C(=O)O)N)CN</td>\n",
       "      <td>Q51742</td>\n",
       "      <td>30</td>\n",
       "      <td>A240D</td>\n",
       "      <td>560</td>\n",
       "      <td>MVVSLAGRDLLCLQDYTAEEIWTILETAKMFKIWQKIGKPHRLLEG...</td>\n",
       "      <td>0.30</td>\n",
       "      <td>0.630727</td>\n",
       "    </tr>\n",
       "    <tr>\n",
       "      <th>11</th>\n",
       "      <td>C(CC(C(=O)O)N)CN</td>\n",
       "      <td>Q51742</td>\n",
       "      <td>30</td>\n",
       "      <td>E277G</td>\n",
       "      <td>560</td>\n",
       "      <td>MVVSLAGRDLLCLQDYTAEEIWTILETAKMFKIWQKIGKPHRLLEG...</td>\n",
       "      <td>0.30</td>\n",
       "      <td>0.630727</td>\n",
       "    </tr>\n",
       "  </tbody>\n",
       "</table>\n",
       "</div>"
      ],
      "text/plain": [
       "              smiles  ProtID  Temp     Mutation  kcat  \\\n",
       "0   C(CC(C(=O)O)N)CN  Q51742    55         None   500   \n",
       "1   C(CC(C(=O)O)N)CN  Q51742    55  Y227C/E277G  3500   \n",
       "2   C(CC(C(=O)O)N)CN  Q51742    55  A240D/E277G  4300   \n",
       "3   C(CC(C(=O)O)N)CN  Q51742    55        Y227C  1100   \n",
       "4   C(CC(C(=O)O)N)CN  Q51742    55        A240D  1100   \n",
       "5   C(CC(C(=O)O)N)CN  Q51742    55        E277G  1600   \n",
       "6   C(CC(C(=O)O)N)CN  Q51742    30         None   370   \n",
       "7   C(CC(C(=O)O)N)CN  Q51742    30  Y227C/E277G  2200   \n",
       "8   C(CC(C(=O)O)N)CN  Q51742    30  A240D/E277G  2900   \n",
       "9   C(CC(C(=O)O)N)CN  Q51742    30        Y227C   560   \n",
       "10  C(CC(C(=O)O)N)CN  Q51742    30        A240D   560   \n",
       "11  C(CC(C(=O)O)N)CN  Q51742    30        E277G   560   \n",
       "\n",
       "                                                  seq  Temp_K_norm  \\\n",
       "0   MVVSLAGRDLLCLQDYTAEEIWTILETAKMFKIWQKIGKPHRLLEG...         0.55   \n",
       "1   MVVSLAGRDLLCLQDYTAEEIWTILETAKMFKIWQKIGKPHRLLEG...         0.55   \n",
       "2   MVVSLAGRDLLCLQDYTAEEIWTILETAKMFKIWQKIGKPHRLLEG...         0.55   \n",
       "3   MVVSLAGRDLLCLQDYTAEEIWTILETAKMFKIWQKIGKPHRLLEG...         0.55   \n",
       "4   MVVSLAGRDLLCLQDYTAEEIWTILETAKMFKIWQKIGKPHRLLEG...         0.55   \n",
       "5   MVVSLAGRDLLCLQDYTAEEIWTILETAKMFKIWQKIGKPHRLLEG...         0.55   \n",
       "6   MVVSLAGRDLLCLQDYTAEEIWTILETAKMFKIWQKIGKPHRLLEG...         0.30   \n",
       "7   MVVSLAGRDLLCLQDYTAEEIWTILETAKMFKIWQKIGKPHRLLEG...         0.30   \n",
       "8   MVVSLAGRDLLCLQDYTAEEIWTILETAKMFKIWQKIGKPHRLLEG...         0.30   \n",
       "9   MVVSLAGRDLLCLQDYTAEEIWTILETAKMFKIWQKIGKPHRLLEG...         0.30   \n",
       "10  MVVSLAGRDLLCLQDYTAEEIWTILETAKMFKIWQKIGKPHRLLEG...         0.30   \n",
       "11  MVVSLAGRDLLCLQDYTAEEIWTILETAKMFKIWQKIGKPHRLLEG...         0.30   \n",
       "\n",
       "    Inv_Temp_norm  \n",
       "0        0.374577  \n",
       "1        0.374577  \n",
       "2        0.374577  \n",
       "3        0.374577  \n",
       "4        0.374577  \n",
       "5        0.374577  \n",
       "6        0.630727  \n",
       "7        0.630727  \n",
       "8        0.630727  \n",
       "9        0.630727  \n",
       "10       0.630727  \n",
       "11       0.630727  "
      ]
     },
     "execution_count": 21,
     "metadata": {},
     "output_type": "execute_result"
    }
   ],
   "source": [
    "case_data"
   ]
  },
  {
   "cell_type": "code",
   "execution_count": 22,
   "id": "078f38d9",
   "metadata": {},
   "outputs": [],
   "source": [
    "case_data.to_csv('../data/case_studies/PFOCT_case.csv',index=None)"
   ]
  },
  {
   "cell_type": "markdown",
   "id": "04be4fd4",
   "metadata": {},
   "source": [
    "# Result"
   ]
  },
  {
   "cell_type": "code",
   "execution_count": 2,
   "id": "387229d7",
   "metadata": {},
   "outputs": [],
   "source": [
    "result = pd.read_csv('../data/case_studies/predPFOCT.csv')\n",
    "result['Target'] = np.log10(result['kcat'])"
   ]
  },
  {
   "cell_type": "code",
   "execution_count": 4,
   "id": "6bbc8e42",
   "metadata": {},
   "outputs": [],
   "source": [
    "def get_rmse(x,y):\n",
    "    rmse = sqrt(((x - y)**2).mean(axis=0))\n",
    "    return round(rmse, 4)\n",
    "def get_r2(x,y):\n",
    "    return round( r2_score(x,y), 4)\n",
    "from scipy.stats import gaussian_kde\n",
    "def scatter_with_gaussian_kde(ax, x, y, size):\n",
    "    xy = np.vstack([x, y])\n",
    "    z = gaussian_kde(xy)(xy)\n",
    "    ax.scatter(x, y, c=z, s=size)"
   ]
  },
  {
   "cell_type": "code",
   "execution_count": 6,
   "id": "f265e499",
   "metadata": {},
   "outputs": [
    {
     "data": {
      "image/png": "[encoded data removed]",
      "text/plain": [
       "<Figure size 1152x432 with 4 Axes>"
      ]
     },
     "metadata": {
      "needs_background": "light"
     },
     "output_type": "display_data"
    }
   ],
   "source": [
    "fig, axs = plt.subplots(2,2,figsize=(16,6), sharex=True)\n",
    "axs[0][0].plot(list(result['Mutation'])[:6], list(result['Target'])[:6],marker='o',label='Exp log10(kcat) (T=55)')\n",
    "axs[0][1].plot(list(result['Mutation'])[6:], list(result['Target'])[6:],marker='o',label='Exp log10(kcat) (T=30)')\n",
    "axs[1][0].plot(list(result['Mutation'])[:6], list(result['pred_log10kcat'])[:6],color='orange',marker='o',\n",
    "               label='Pred log10(kcat) (T=55)')\n",
    "axs[1][1].plot(list(result['Mutation'])[6:], list(result['pred_log10kcat'])[6:],color='orange',marker='o',\n",
    "               label='Pred log10(kcat) (T=30)')\n",
    "for i in range(2):\n",
    "    for j in range(2):\n",
    "        axs[i][j].legend()\n",
    "        axs[i][j].grid()\n",
    "        if i == 1:\n",
    "            axs[i][j].set_xlabel('Mutation')\n",
    "        if j == 0:\n",
    "            axs[i][j].set_ylabel('log10(kcat 1/s)')\n",
    "plt.savefig('../../../DLTKcat/Figures/Figure5B.svg',format='svg',dpi=150)"
   ]
  },
  {
   "cell_type": "code",
   "execution_count": 28,
   "id": "664a222e",
   "metadata": {},
   "outputs": [
    {
     "data": {
      "image/png": "[encoded data removed]",
      "text/plain": [
       "<Figure size 360x324 with 1 Axes>"
      ]
     },
     "metadata": {
      "needs_background": "light"
     },
     "output_type": "display_data"
    }
   ],
   "source": [
    "result_55, result_33 = result[result['Temp']==55].reset_index(), result[result['Temp']==30].reset_index()\n",
    "fig, ax = plt.subplots(1,1,figsize=(5,4.5))\n",
    "ax.scatter(result_55['Target'] , result_55['pred_log10kcat'], s= 50,\n",
    "           edgecolor='black',linewidth=1, color='tab:red',label='T=55C')\n",
    "ax.scatter(result_33['Target'] , result_33['pred_log10kcat'], s= 50,\n",
    "           edgecolor='black',linewidth=1, color='tab:blue',label='T=33C')\n",
    "ax.set_xlim([2,4.5])\n",
    "ax.set_ylim([2,4.5])\n",
    "ax.set_xlabel('log10(experimental kcat 1/s)')\n",
    "ax.set_ylabel('log10(predicted kcat 1/s)')\n",
    "ax.plot([2,4.5],[2,4.5],'r--')\n",
    "ax.text(x=2.5,y=4.0,s='RMSE='+str( get_rmse(result['Target'] , result['pred_log10kcat']) ), fontsize=15)\n",
    "ax.legend(loc='lower right')\n",
    "# plt.savefig('../../../DLTKcat/Figures/Figure5A.svg',format='svg',dpi=150)"
   ]
  },
  {
   "cell_type": "code",
   "execution_count": null,
   "id": "c71bfe51",
   "metadata": {},
   "outputs": [],
   "source": []
  }
 ],
 "metadata": {
  "kernelspec": {
   "display_name": "Python 3 (ipykernel)",
   "language": "python",
   "name": "python3"
  },
  "language_info": {
   "codemirror_mode": {
    "name": "ipython",
    "version": 3
   },
   "file_extension": ".py",
   "mimetype": "text/x-python",
   "name": "python",
   "nbconvert_exporter": "python",
   "pygments_lexer": "ipython3",
   "version": "3.8.10"
  }
 },
 "nbformat": 4,
 "nbformat_minor": 5
}
