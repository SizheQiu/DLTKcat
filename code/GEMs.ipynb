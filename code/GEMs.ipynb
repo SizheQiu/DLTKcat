{
 "cells": [
  {
   "cell_type": "code",
   "execution_count": 1,
   "id": "e6a2567c",
   "metadata": {},
   "outputs": [],
   "source": [
    "import cobra\n",
    "from cobra import Model, Reaction, Metabolite\n",
    "from cobra.medium import minimal_medium\n",
    "from train_functions import *\n",
    "from feature_functions import *\n",
    "import pandas as pd\n",
    "import numpy as np\n",
    "import seaborn as sns\n",
    "import matplotlib.pyplot as plt"
   ]
  },
  {
   "cell_type": "markdown",
   "id": "83ce57d8",
   "metadata": {},
   "source": [
    "# Modify GEMs"
   ]
  },
  {
   "cell_type": "code",
   "execution_count": null,
   "id": "6b5d5fda",
   "metadata": {},
   "outputs": [],
   "source": [
    "# st = cobra.io.read_sbml_model('../data/GEMs/iMP429.xml');\n",
    "# ll = cobra.io.read_sbml_model('../data/GEMs/LL_MG1363.xml');"
   ]
  },
  {
   "cell_type": "code",
   "execution_count": 3,
   "id": "5dfd5494",
   "metadata": {},
   "outputs": [],
   "source": [
    "# ll.reactions.kaasIII.gene_reaction_rule = 'x_375'\n",
    "    \n",
    "# for met in st.metabolites:\n",
    "#     temp_id = str(met.id)\n",
    "#     met.id = temp_id.replace('LSQBKT','').replace('_RSQBKT','')\n",
    "\n",
    "# for rxn in st.reactions.query('EX_'):\n",
    "#     temp_id = str(rxn.id)\n",
    "#     rxn.id = temp_id.replace('_LPAREN','').replace('_RPAREN_','')\n",
    "\n",
    "# for rxn in ll.reactions.query('EX_'):\n",
    "#     temp_id = str(rxn.id)\n",
    "#     rxn.id = temp_id.replace('_LPAREN','').replace('_RPAREN_','')"
   ]
  },
  {
   "cell_type": "code",
   "execution_count": 4,
   "id": "bb07ae8e",
   "metadata": {},
   "outputs": [],
   "source": [
    "# cobra.io.save_json_model( st , \"../data/GEMs/ST_LMG18311.json\")\n",
    "# cobra.io.save_json_model( ll , \"../data/GEMs/LL_MG1363.json\")"
   ]
  },
  {
   "cell_type": "code",
   "execution_count": 2,
   "id": "521b066e",
   "metadata": {},
   "outputs": [],
   "source": [
    "st = cobra.io.load_json_model(\"../data/GEMs/ST_LMG18311.json\")\n",
    "ll = cobra.io.load_json_model(\"../data/GEMs/LL_MG1363.json\")"
   ]
  },
  {
   "cell_type": "code",
   "execution_count": 3,
   "id": "df60bad7",
   "metadata": {},
   "outputs": [],
   "source": [
    "#ST\n",
    "st.remove_reactions([st.reactions.LCTSt])\n",
    "UDPG4E_f = Reaction('UDPG4E_f','UDPglucose 4 epimerase(forward)','',0.0,1000.0)\n",
    "UDPG4E_r = Reaction('UDPG4E_r','UDPglucose 4 epimerase(reverse)','',0.0,1000.0)\n",
    "GALU_f = Reaction('GALU_f','UTP glucose 1 phosphate uridylyltransferase(forward)','',0.0,1000.0)\n",
    "GALU_r = Reaction('GALU_r','UTP glucose 1 phosphate uridylyltransferase(forward)','',0.0,1000.0)\n",
    "PGMT_f = Reaction('PGMT_f','phosphoglucomutase(forward)','',0.0,1000.0)\n",
    "PGMT_r = Reaction('PGMT_r','phosphoglucomutase(forward)','',0.0,1000.0)\n",
    "st.add_reactions([UDPG4E_f, UDPG4E_r, GALU_f, GALU_r, PGMT_f, PGMT_r ])\n",
    "st.reactions.UDPG4E_f.build_reaction_from_string('udpgal_c --> udpg_c')\n",
    "st.reactions.UDPG4E_r.build_reaction_from_string('udpg_c --> udpgal_c')\n",
    "st.reactions.GALU_f.build_reaction_from_string('ppi_c + udpg_c --> g1p_c + h_c + utp_c')\n",
    "st.reactions.GALU_r.build_reaction_from_string('g1p_c + h_c + utp_c --> ppi_c + udpg_c')\n",
    "st.reactions.PGMT_f.build_reaction_from_string('g1p_c --> g6p_c')\n",
    "st.reactions.PGMT_r.build_reaction_from_string('g6p_c --> g1p_c')\n",
    "st.remove_reactions([ st.reactions.UDPG4E, st.reactions.GALU, st.reactions.PGMT  ])\n",
    "\n",
    "st.reactions.PGI.lower_bound = 0.0\n",
    "st.reactions.FBA.lower_bound = 0.0\n",
    "st.reactions.GAPD.lower_bound = 0.0\n",
    "st.reactions.PGK.lower_bound = 0.0\n",
    "st.reactions.PGM.lower_bound = 0.0\n",
    "st.reactions.ENO.lower_bound = 0.0\n",
    "st.reactions.LDH_L.build_reaction_from_string('h_c + nadh_c + pyr_c --> lac__L_c + nad_c')\n",
    "st.reactions.LDH_L.lower_bound = 0.0\n",
    "st.reactions.PFL.lower_bound = 0.0\n",
    "st.reactions.PTAr.lower_bound = 0.0\n",
    "st.reactions.ACKr.build_reaction_from_string('actp_c + adp_c --> ac_c + atp_c')\n",
    "st.reactions.ACKr.lower_bound = 0.0\n",
    "\n",
    "#LL\n",
    "ll.objective = {ll.reactions.biomass_LLA: 1}\n",
    "ll.reactions.PGMT.build_reaction_from_string('g6p_c --> g1p_c')\n",
    "ll.reactions.PGMT.lower_bound = 0.0\n",
    "ll.reactions.GALU.lower_bound = 0.0\n",
    "ll.reactions.UDPG4E.lower_bound = 0.0\n",
    "ll.reactions.G6PDHy.lower_bound = 0.0\n",
    "ll.reactions.PGI.lower_bound = 0.0\n",
    "ll.reactions.FBA.lower_bound = 0.0\n",
    "ll.reactions.GAPD.lower_bound = 0.0\n",
    "ll.reactions.PGK.lower_bound = 0.0\n",
    "ll.reactions.PGM.lower_bound = 0.0\n",
    "ll.reactions.ENO.lower_bound = 0.0\n",
    "ll.reactions.LDH_L.build_reaction_from_string('h_c + nadh_c + pyr_c --> lac_L_c + nad_c')\n",
    "ll.reactions.LDH_L.lower_bound = 0.0\n",
    "ll.reactions.PFL.lower_bound = 0.0\n",
    "ll.reactions.PTAr.lower_bound = 0.0\n",
    "ll.reactions.ACKr.build_reaction_from_string('actp_c + adp_c --> ac_c + atp_c')\n",
    "ll.reactions.ACKr.lower_bound = 0.0"
   ]
  },
  {
   "cell_type": "markdown",
   "id": "9421610c",
   "metadata": {},
   "source": [
    "# Get smiles and seqs"
   ]
  },
  {
   "cell_type": "code",
   "execution_count": 4,
   "id": "6c21ba44",
   "metadata": {},
   "outputs": [],
   "source": [
    "# convert_input('../data/GEMs/ll_input.csv','uniprot_id', 'substrate' )\n",
    "# convert_input('../data/GEMs/st_input.csv','uniprot_id', 'substrate' )"
   ]
  },
  {
   "cell_type": "markdown",
   "id": "5b3d8307",
   "metadata": {},
   "source": [
    "# FBA"
   ]
  },
  {
   "cell_type": "code",
   "execution_count": 5,
   "id": "5305c300",
   "metadata": {},
   "outputs": [],
   "source": [
    "fixed_cost = {'Growth':107.4,'EX_ac_e':6360,'EX_lac_L_e':6360}"
   ]
  },
  {
   "cell_type": "markdown",
   "id": "93c8ad27",
   "metadata": {},
   "source": [
    "## 1. S.thermophilus case study"
   ]
  },
  {
   "cell_type": "code",
   "execution_count": 13,
   "id": "81725492",
   "metadata": {},
   "outputs": [],
   "source": [
    "def init_st_medium():\n",
    "    out_medium = {}\n",
    "    vitamins = ['EX_pnto_R_e', 'EX_ribflv_e', 'EX_thm_e',  'EX_nac_e','EX_pydam_e']\n",
    "    others = ['EX_h2o_e', 'EX_h_e', 'EX_pi_e', 'EX_urea_e']\n",
    "    out_medium['EX_lcts_e'] = 100\n",
    "    out_medium['EX_mpept_e'] = 0.01\n",
    "    for EX_m in vitamins:\n",
    "        out_medium[EX_m] = 10\n",
    "    for EX_m in others:\n",
    "        out_medium[EX_m] = 1000\n",
    "    return out_medium\n",
    "\n",
    "def set_st_PA( model, ptot, kcat_dict, mw_dict ):\n",
    "    expr = model.reactions.biomass_STR.flux_expression/fixed_cost['Growth'] + \\\n",
    "        model.reactions.EX_ac_e.flux_expression/fixed_cost['EX_ac_e'] + \\\n",
    "        model.reactions.EX_lac_L_e.flux_expression/fixed_cost['EX_lac_L_e'] \n",
    "    for r in kcat_dict.keys():\n",
    "        mw = mw_dict[r]/1000 # g/mmol\n",
    "        kcat = kcat_dict[r]*3600 # 1/hr\n",
    "        expr = expr + model.reactions.get_by_id(r).flux_expression * mw/kcat\n",
    "    PA = model.problem.Constraint( expression = expr,name = 'PA', lb= 0, ub = 0.5*ptot)\n",
    "    model.add_cons_vars([ PA ])\n",
    "    return expr"
   ]
  },
  {
   "cell_type": "code",
   "execution_count": 14,
   "id": "4956877b",
   "metadata": {},
   "outputs": [],
   "source": [
    "predST = pd.read_csv('../data/GEMs/predST_primary.csv')"
   ]
  },
  {
   "cell_type": "code",
   "execution_count": 16,
   "id": "dd1f2470",
   "metadata": {},
   "outputs": [],
   "source": [
    "kcat_dict_T = {}\n",
    "Ptot_st = 0.46\n",
    "T_list = [25,32,37,42,46,49]\n",
    "miu_list = []\n",
    "rxns = list( np.unique(predST['rxn']) )\n",
    "for T in T_list:\n",
    "    kcat_dict, mw_dict = {}, {}\n",
    "    for rxn in rxns:\n",
    "        temp_pd = predST[predST['rxn']==rxn].reset_index().drop(['index'],axis=1)\n",
    "        if  (rxn == 'LCTSGALex')or ( len( np.unique(temp_pd['uniprot_id']) ) == 1 ):\n",
    "            temp_pd = temp_pd.sort_values(by=['pred_log10kcat_T' + str(float(T))],ascending=True)\n",
    "            kcat_dict[rxn] = 10**list( temp_pd['pred_log10kcat_T' + str(float(T))] )[0]\n",
    "            mw_dict[rxn] = list(temp_pd['mw'])[0]\n",
    "        else:\n",
    "            temp_pd = temp_pd.sort_values(by=['pred_log10kcat_T' + str(float(T))],ascending=False)\n",
    "            kcat_dict[rxn] = 10**list( temp_pd['pred_log10kcat_T' + str(float(T))] )[0]\n",
    "            mw_dict[rxn] = list(temp_pd['mw'])[0]\n",
    "            \n",
    "    kcat_dict_T[T] = kcat_dict\n",
    "    with st:\n",
    "        st.medium = init_st_medium()\n",
    "        set_st_PA(st, Ptot_st, kcat_dict, mw_dict  )\n",
    "        fluxes = cobra.flux_analysis.pfba(st)\n",
    "        miu_list.append(fluxes['biomass_STR'])"
   ]
  },
  {
   "cell_type": "code",
   "execution_count": 17,
   "id": "0d7ba389",
   "metadata": {},
   "outputs": [
    {
     "data": {
      "image/png": "[encoded data removed]",
      "text/plain": [
       "<Figure size 720x288 with 2 Axes>"
      ]
     },
     "metadata": {
      "needs_background": "light"
     },
     "output_type": "display_data"
    }
   ],
   "source": [
    "fig, axs = plt.subplots(1,2,figsize=(10,4))\n",
    "axs[0].plot(T_list,miu_list,color='b',marker='o',label='ST(Pred)')\n",
    "axs[1].plot(T_list,[0.4,0.95,1.38,1.47,1.1,0.58],color='orange',marker='o',label='ST(Exp)')\n",
    "for ax in axs:\n",
    "    ax.legend()\n",
    "    ax.set_xlabel('Temperature(Celsius)')\n",
    "    ax.set_ylabel('Growth rate(1/hr)')"
   ]
  },
  {
   "cell_type": "code",
   "execution_count": 18,
   "id": "b01655d7",
   "metadata": {},
   "outputs": [],
   "source": [
    "# for T in [25, 42, 49]:\n",
    "#     temp_dict = kcat_dict_T[T]\n",
    "#     temp_pd = pd.DataFrame(zip( list(temp_dict.keys()) , list(temp_dict.values()) ), columns=['RXN','pred_kcat'])\n",
    "#     temp_pd.to_csv('../data/GEMs/ST_predkcat_T' + str(T) +'.csv', index=None)"
   ]
  },
  {
   "cell_type": "markdown",
   "id": "9cbe0c33",
   "metadata": {},
   "source": [
    "## 2. L.lactis case study"
   ]
  },
  {
   "cell_type": "code",
   "execution_count": 19,
   "id": "a1d552ed",
   "metadata": {},
   "outputs": [],
   "source": [
    "def init_ll_medium():\n",
    "    out_medium = {}\n",
    "    vitamins = ['EX_pnto_R_e', 'EX_ribflv_e', 'EX_thm_e', 'EX_fol_e', 'EX_nac_e']\n",
    "    DNA_materials = ['EX_ade_e', 'EX_gua_e', 'EX_xan_e', 'EX_ura_e','EX_thymd_e']\n",
    "    others = ['EX_mn2_e','EX_so4_e', 'EX_h2o_e', 'EX_h_e', 'EX_pi_e', 'EX_nh4_e']\n",
    "    out_medium['EX_glc_e'] = 100\n",
    "    for k in ['EX_his_L_e', 'EX_ile_L_e', 'EX_leu_L_e', 'EX_lys_L_e', 'EX_met_L_e', \n",
    "                     'EX_phe_L_e', 'EX_thr_L_e', 'EX_trp_L_e', 'EX_val_L_e', 'EX_ala_L_e', \n",
    "                     'EX_arg_L_e', 'EX_asn_L_e', 'EX_asp_L_e', 'EX_cys_L_e', 'EX_gln_L_e', \n",
    "                     'EX_glu_L_e', 'EX_gly_e', 'EX_pro_L_e', 'EX_ser_L_e', 'EX_tyr_L_e']:\n",
    "        out_medium[k] = 0.5\n",
    "    for EX_m in (vitamins+DNA_materials):\n",
    "        out_medium[EX_m] = 10\n",
    "    for EX_m in others:\n",
    "        out_medium[EX_m] = 1000\n",
    "    return out_medium\n",
    "\n",
    "def set_ll_PA( model, ptot, kcat_dict, mw_dict ):\n",
    "    expr = model.reactions.biomass_LLA.flux_expression/fixed_cost['Growth'] + \\\n",
    "        model.reactions.EX_ac_e.flux_expression/fixed_cost['EX_ac_e'] + \\\n",
    "        model.reactions.EX_lac_L_e.flux_expression/fixed_cost['EX_lac_L_e']  \n",
    "    for r in kcat_dict.keys():\n",
    "        mw = mw_dict[r]/1000 # g/mmol\n",
    "        kcat = kcat_dict[r]*3600 # 1/hr\n",
    "        expr = expr + model.reactions.get_by_id(r).flux_expression * mw/kcat\n",
    "    PA = model.problem.Constraint( expression = expr,name = 'PA', lb= 0, ub = 0.5*ptot)\n",
    "    model.add_cons_vars([ PA ])\n",
    "    return expr"
   ]
  },
  {
   "cell_type": "code",
   "execution_count": 20,
   "id": "72650180",
   "metadata": {},
   "outputs": [],
   "source": [
    "predLL = pd.read_csv('../data/GEMs/predLL_primary.csv')"
   ]
  },
  {
   "cell_type": "code",
   "execution_count": 22,
   "id": "a56d97a2",
   "metadata": {},
   "outputs": [],
   "source": [
    "kcat_dict_T = {}\n",
    "Ptot_ll = 0.46\n",
    "T_list = [30,32,34,36,38]\n",
    "miu_list, GLCpts, LDH, PFL, ACK = [],[],[],[],[]\n",
    "\n",
    "rxns = list( np.unique(predLL['rxn']) )\n",
    "for T in T_list:\n",
    "    kcat_dict, mw_dict = {}, {}\n",
    "    for rxn in rxns:\n",
    "        temp_pd = predLL[predLL['rxn']==rxn].reset_index().drop(['index'],axis=1)\n",
    "        if len( np.unique(temp_pd['uniprot_id']) ) == 1:\n",
    "            kcat_dict[rxn] = 10**list( temp_pd['pred_log10kcat_T' + str(float(T))] )[0]\n",
    "            mw_dict[rxn] = list(temp_pd['mw'])[0]\n",
    "        else:\n",
    "            temp_pd = temp_pd.sort_values(by=['pred_log10kcat_T' + str(float(T))],ascending=False)\n",
    "            kcat_dict[rxn] = 10**list( temp_pd['pred_log10kcat_T' + str(float(T))] )[0]\n",
    "            mw_dict[rxn] = list(temp_pd['mw'])[0]\n",
    "            \n",
    "    kcat_dict_T[T] = kcat_dict    \n",
    "    with ll:\n",
    "        ll.medium = init_ll_medium()\n",
    "        set_ll_PA(ll, Ptot_ll, kcat_dict, mw_dict  )\n",
    "        fluxes = cobra.flux_analysis.pfba( ll )\n",
    "        miu_list.append(fluxes['biomass_LLA'])\n",
    "        GLCpts.append(fluxes['GLCpts'])\n",
    "        LDH.append( fluxes['LDH_L'] )\n",
    "        PFL.append( fluxes['PFL'] )\n",
    "        ACK.append( fluxes['ACKr'] )  "
   ]
  },
  {
   "cell_type": "code",
   "execution_count": 23,
   "id": "83a8c43d",
   "metadata": {},
   "outputs": [
    {
     "data": {
      "image/png": "[encoded data removed]",
      "text/plain": [
       "<Figure size 720x288 with 2 Axes>"
      ]
     },
     "metadata": {
      "needs_background": "light"
     },
     "output_type": "display_data"
    }
   ],
   "source": [
    "fig, axs = plt.subplots(1,2,figsize=(10,4))\n",
    "axs[0].plot(T_list,miu_list,color='b',marker='o',label='LL(Pred)')\n",
    "axs[1].plot(T_list,[1.13,1.103,1.096,1.068,0.795],color='orange',marker='o',label='LL(Exp)')\n",
    "for ax in axs:\n",
    "    ax.legend()\n",
    "    ax.set_xlabel('Temperature(Celsius)')\n",
    "    ax.set_ylabel('Growth rate(1/hr)')"
   ]
  },
  {
   "cell_type": "code",
   "execution_count": 26,
   "id": "2ef4af59",
   "metadata": {},
   "outputs": [],
   "source": [
    "# for T in [30,38]:\n",
    "#     temp_dict = kcat_dict_T[T]\n",
    "#     temp_pd = pd.DataFrame(zip( list(temp_dict.keys()) , list(temp_dict.values()) ), columns=['RXN','pred_kcat'])\n",
    "#     temp_pd.to_csv('../data/GEMs/LL_predkcat_T' + str(T) +'.csv', index=None)"
   ]
  },
  {
   "cell_type": "code",
   "execution_count": null,
   "id": "13446afa",
   "metadata": {},
   "outputs": [],
   "source": []
  }
 ],
 "metadata": {
  "kernelspec": {
   "display_name": "Python 3 (ipykernel)",
   "language": "python",
   "name": "python3"
  },
  "language_info": {
   "codemirror_mode": {
    "name": "ipython",
    "version": 3
   },
   "file_extension": ".py",
   "mimetype": "text/x-python",
   "name": "python",
   "nbconvert_exporter": "python",
   "pygments_lexer": "ipython3",
   "version": "3.8.10"
  }
 },
 "nbformat": 4,
 "nbformat_minor": 5
}
